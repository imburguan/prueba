{
 "cells": [
  {
   "cell_type": "markdown",
   "metadata": {},
   "source": [
    "# Procedimento para o codigo de caracteres especias do portuguese"
   ]
  },
  {
   "cell_type": "markdown",
   "metadata": {},
   "source": [
    "Para trabalhar com caracteres portugueses especiais, nois devemos verificar as variáveis python que foram instaladas no computador. \n",
    "\n",
    "Os detalhes de como configurar seu POSIX para suportar nomes de arquivo Unicode,\n",
    "mas geralmente é feito pela configuração de algumas variáveis de ambiente. No meu caso, eu quis usar a codificação UTF-8 em um local inglês EUA, logo minha configuração envolveu adicionar algumas linhas aos meus arquivos de inicialização (eu tentei isso no Gentoo e Ubuntu), mas deve ser parecido em todos os sistemas Linux):\n",
    "\n",
    "LANG=\"en_US.utf8\"\n",
    "LANGUAGE=\"en_US.utf8\"\n",
    "LC_ALL=\"en_US.utf8\"\n",
    "\n",
    "LANG=\"pt_BR.UTF-8\" \n",
    "LANGUAGE=\"PORTBR\"\n",
    "LC_ALL=\"pt_BR.UTF-8\"\n",
    "\n",
    "\"UnicodeDecodeError: 'ascii' codec can't decode byte\" Geralmente acontece quando tentamos converter um Python 2.x strings que contenha não-ASCII em uma seqüência Unicode sem especificar a codificação da string original."
   ]
  },
  {
   "cell_type": "code",
   "execution_count": null,
   "metadata": {
    "collapsed": true
   },
   "outputs": [],
   "source": [
    "#/usr/local/lib/python2.7/site-packages# cat sitecustomize.py\n",
    "# encoding=utf8  \n",
    "import sys  \n",
    "\n",
    "reload(sys)  \n",
    "sys.setdefaultencoding('ISO-8859-1')"
   ]
  },
  {
   "cell_type": "markdown",
   "metadata": {
    "collapsed": true
   },
   "source": [
    "# Stemming ou Lematização?\n",
    "\n",
    "\"Stemming\" .- É o processo de reduzir as palavras inflexíveis para a sua raiz, base ou raiz. Os algoritmos mais comuns são Porter Algorithm, Steam.\n",
    "\n",
    "\"Lematização\" .-É um processo lingüístico que utiliza análises morfológicas e análises sintáticas. Isso requer conhecimento da gramática da linguagem.\n",
    "\n",
    "Stemmer opera em uma única palavra sem conhecimento do contexto e, portanto, não pode discriminar entre palavras que têm significados diferentes dependendo (Parte da fala).\n",
    "No entanto, stemmer tende a ser mais fácil de implementar e executar mais rápido e a accurancy pode não ser importante para o nosso sistema."
   ]
  },
  {
   "cell_type": "code",
   "execution_count": null,
   "metadata": {
    "collapsed": true
   },
   "outputs": [],
   "source": [
    "oracion = \"O reino Pérsia há séculos passados governado rei Nebul\"\n",
    "pal = oracion.split()\n",
    "for i in range(len(pal)):\n",
    "\ta = \"\"\n",
    "\ta= pal[i]\n",
    "\tstemmer = nltk.stem.RSLPStemmer()\n",
    "\traiz1 = stemmer.stem(a)\n",
    "\tprint raiz1\n",
    "    #mantemos as raízes de cada palavra da frase em uma lista st1\n",
    "    st1.append(str(raiz1))\n",
    "\tprint st1"
   ]
  },
  {
   "cell_type": "markdown",
   "metadata": {},
   "source": [
    "Obtemos as raízes do arquivo ANEW BR que contém as palavras afetivas e suas valências."
   ]
  },
  {
   "cell_type": "code",
   "execution_count": null,
   "metadata": {
    "collapsed": true
   },
   "outputs": [],
   "source": [
    "f=open(\"/Users/imburguan/Desktop/valencia4palabras.txt\");\n",
    "for line in f:\n",
    "\tbase=line.split()\n",
    "\tb = base[0] #palavra\n",
    "\tstemmer2 = nltk.stem.RSLPStemmer()\n",
    "\traiz2= stemmer2.stem(b)\n",
    "\tst2.append(str(raiz2))"
   ]
  },
  {
   "cell_type": "markdown",
   "metadata": {},
   "source": [
    "Procedemos a fazer a comparação:"
   ]
  },
  {
   "cell_type": "code",
   "execution_count": null,
   "metadata": {
    "collapsed": true
   },
   "outputs": [],
   "source": [
    "for x in range (len(st1)):\n",
    "\tfor y in range(len(st2)):\n",
    "\t\tif st1[x].upper() == st2[y].upper():\n",
    "\t\t\tprint \"palabra original: \", pal[x]\n",
    "\t\t\tprint \"palabra encontrada: \", st1[x], \"=\", st2[y]\n",
    "\t\t\tnewbase[y] = [float(h) for h in newbase[y] if h != newbase[y][0] ]\n",
    "\t\t\tconta = conta +1\n",
    "\t\t\tsum_valencia= sum_valencia+(newbase[y][0])\n",
    "\t\t\tprint sum_valencia\n",
    "#categoriza las valencias\n",
    "if conta ==0:\n",
    "  promedio=0\n",
    "else:\n",
    "  promedio = (sum_valencia/conta)\n",
    "print \"promedio valencias \" + str(promedio)\n",
    "if promedio < 4:\n",
    "  print('negativo')\n",
    "if promedio >4 and promedio < 6:\n",
    "  print('neutro')\n",
    "if promedio >6:\n",
    "  print ('positivo')"
   ]
  },
  {
   "cell_type": "markdown",
   "metadata": {},
   "source": [
    "## Para apresentar um exemplo, avaliaremos uma frase da história.\n",
    "\n",
    "Neste exemplo, apresentamos cada linha de valências que contém três elementos: palavra, valencia, alerta.\n",
    "\n",
    "#####\n",
    "['VIDA', '8.63', '5.45']\n",
    "#####"
   ]
  },
  {
   "cell_type": "markdown",
   "metadata": {},
   "source": [
    "### Procedemos a analisar a primeira frase:\n",
    "    \"Já Nebul desanimado , conformado triste vida , dia , apareceu velhinha , pedindo esmola\""
   ]
  },
  {
   "cell_type": "code",
   "execution_count": null,
   "metadata": {
    "collapsed": true
   },
   "outputs": [],
   "source": [
    "palavra original:  desanimado\n",
    "palavra encontrada raiz:  desanim = desanim\n",
    "newbase[y]:   ['DESANIMADO', '1.84', '4.47']\n",
    "    \n",
    "palavra original:  triste\n",
    "palavra encontrada raiz:  trist = trist\n",
    "newbase[y]:   ['TRISTE', '1.73', '5.28']\n",
    "    \n",
    "palavra original:  vida\n",
    "palavra encontrada raiz:  vid = vid\n",
    "newbase[y]:   ['VIDA', '8.63', '5.45']\n",
    "\n",
    "RESULTADO:\n",
    "    Palavras: DESANIMADO, TRISTE, VIDA\n",
    "    promedio valencias 4.06666666667\n",
    "    Polaridade: neutro\n",
    "    \n",
    "Anterior \n",
    "    Palavras: DESANIMADO, TRISTE, VIDA\n",
    "    Promedio valencias 4.06666666667  \n",
    "    Polaridade: neutro"
   ]
  },
  {
   "cell_type": "markdown",
   "metadata": {},
   "source": [
    "### Procedemos a analisar a segunda frase:\n",
    "    \"Mandou preparar nova esquadra quinhentos navios , porque supunha filho morrera guerra travara reino Águas , busca remédio cegueira\""
   ]
  },
  {
   "cell_type": "code",
   "execution_count": null,
   "metadata": {
    "collapsed": true
   },
   "outputs": [],
   "source": [
    "palavra original:  nova\n",
    "palavra encontrada raiz:  nov = nov\n",
    "newbase[y]:   ['NOVO', '7.96', '4.94']\n",
    "    \n",
    "palavra original:  navios\n",
    "palavra encontrada raiz:  navi = navi\n",
    "newbase[y]:   ['NAVIO', '6.55', '3.68']\n",
    "\n",
    "palavra original:  guerra\n",
    "palavra encontrada raiz:  guerr = guerr\n",
    "newbase[y]:   ['GUERRA', '1.61', '6.79']\n",
    "\n",
    "palavra original:  Águas\n",
    "palavra encontrada raiz:  Águ = Águ\n",
    "newbase[y]:   ['\\xc3\\x81GUA', '8.35', '3.00']\n",
    "    \n",
    "RESULTADOS:\n",
    "    Palavras: nova, navios, GUERRA, ÁGUA \n",
    "    promedio valencias 6.1175\n",
    "    Polaridade: positivo\n",
    "\n",
    "Anterior \n",
    "    Palavras: GUERRA \n",
    "    Promedio valencias 1.61 \n",
    "    Polaridade: negativo\n",
    "        \n",
    "Note-se: a palavra \"morrera\" não aparece na lista, mas tem a palavra \"morte\" e \"morto\" que contém valência negativa."
   ]
  },
  {
   "cell_type": "raw",
   "metadata": {},
   "source": [
    "# Procedemos a analisar a terceira frase:\n",
    "    \"Os dois irmãos aconselharam-lhe não continuasse viagem tempo perdido , pois país divertido , deixasse ficar ali\""
   ]
  },
  {
   "cell_type": "code",
   "execution_count": null,
   "metadata": {
    "collapsed": true
   },
   "outputs": [],
   "source": [
    "palavra original:  viagem\n",
    "palavra encontrada raiz:  viag = viag\n",
    "newbase[y]:   ['VIAGEM', '8.55', '5.26']\n",
    "\n",
    "palavra original:  tempo\n",
    "palavra encontrada raiz:  temp = temp\n",
    "newbase[y]:   ['TEMPO', '5.66', '5.25']\n",
    "\n",
    "palavra original:  perdido\n",
    "palavra encontrada raiz:  perd = perd\n",
    "newbase[y]:   ['PERDEDOR', '4.22', '5.54']\n",
    "\n",
    "palavra original:  perdido\n",
    "palavra encontrada raiz:  perd = perd\n",
    "newbase[y]:   ['PERDIDO', '2.93', '5.17']\n",
    "\n",
    "palavra original:  divertido\n",
    "palavra encontrada raiz:  divert = divert\n",
    "newbase[y]:   ['DIVERTIDO', '8.57', '5.12']\n",
    "\n",
    "palavra original:  divertido\n",
    "palavra encontrada raiz:  divert = divert\n",
    "newbase[y]:   ['DIVERTIMENTO', '8.27', '4.88']\n",
    "    \n",
    "RESULTADOS:\n",
    "    Palavras: VIAGEM, TEMPO, PERDEDOR, PERDIDO, DIVERTIDO, DIVERTIMENTO\n",
    "    promedio valencias 6.36666666667\n",
    "    Polaridade: positivo\n",
    "\n",
    "Anterior:\n",
    "    Palavras: VIAGEM, TEMPO, PERDIDO, DIVERTIDO \n",
    "    Promedio valencias 6.4275 \n",
    "    Polaridade: positivo"
   ]
  },
  {
   "cell_type": "markdown",
   "metadata": {},
   "source": [
    "# Avaliação de Ferramentas"
   ]
  },
  {
   "cell_type": "markdown",
   "metadata": {},
   "source": [
    "## Avaliação em IBM\n",
    "\n",
    "https://www.ibm.com/watson/services/natural-language-understanding/\n",
    "\n",
    "### Primera frase\n",
    "    \n",
    "    \"Já Nebul desanimado , conformado triste vida , dia , apareceu velhinha , pedindo esmola\"\n",
    "    \n",
    "RESULTADOS\n",
    "    Negative: -0.81\n",
    "    No Emotion results returned for Portuguese input.\n",
    "    No Keywords results returned for Portuguese input.\n",
    "    No Entities results returned for Portuguese input.\n",
    "    No Concept results returned for Portuguese input.\n",
    "    No Semantic Roles results returned for Portuguese input.\n",
    "   \n",
    "### Segunda frase\n",
    "\n",
    "    \"Mandou preparar nova esquadra quinhentos navios , porque supunha filho morrera guerra travara reino Águas , busca remédio cegueira\"\n",
    "\n",
    "RESULTADOS\n",
    "    Positive: 0.00\n",
    "    No Emotion results returned for Portuguese input.\n",
    "    Keywords results: Text (esquadra quinhentos navios) Relevance (0.91)\n",
    "    Entities results: Name (cegueira) Type (HealthCondition) Score (0.98)\n",
    "    No Concept results returned for Portuguese input.\n",
    "    No Semantic Roles results returned for Portuguese input.\n",
    "\n",
    "### Terça frase\n",
    "\n",
    "    \"Os dois irmãos aconselharam-lhe não continuasse viagem tempo perdido , pois país divertido , deixasse ficar ali\"\n",
    "    \n",
    "RESULTADOS\n",
    "    Positive: 0.00\n",
    "    No Emotion results returned for Portuguese input.\n",
    "    No Keywords results returned for Portuguese input.\n",
    "    No Entities results returned for Portuguese input.\n",
    "    No Concept results returned for Portuguese input.\n",
    "    No Semantic Roles results returned for Portuguese input.\n",
    "    "
   ]
  },
  {
   "cell_type": "markdown",
   "metadata": {},
   "source": [
    "## Avaliação em Google Natural Language API\n",
    "\n",
    "https://cloud.google.com/natural-language/\n",
    "\n",
    "### Primera frase\n", 
    "    \n",
    "    \"Já Nebul desanimado , conformado triste vida , dia , apareceu velhinha , pedindo esmola\"\n",
    "    \n",
    "RESULTADOS\n",
    "    Entities:\n",
    "        Nebul: Person   Importancia (0.36) [0 Less - 1 Highly]\n",
    "    Sentiment: Positive Score(0.7) Magnitude(0.7)  [-1 Very Negative :  1 Very Positive]\n",
    "\n",
    "\n",
    "### Segunda frase\n",
    "\n",
    "    \"Mandou preparar nova esquadra quinhentos navios , porque supunha filho morrera guerra travara reino Águas , busca remédio cegueira\"\n",
    "\n",
    "RESULTADOS\n",
    "    Entities:\n",
    "        filho: Person   Importancia (0.16) [0 Less - 1 Highly]\n",
    "        guerra: Event   Importancia (0.10) [0 Less - 1 Highly]\n",
    "    Sentiment: Positive Score(0.4) Magnitude(0.4)  [-1 Very Negative :  1 Very Positive]\n",
    "    \n",
    "### Terça frase\n",
    "\n",
    "    \"Os dois irmãos aconselharam-lhe não continuasse viagem tempo perdido , pois país divertido , deixasse ficar ali\"\n",
    "\n",
    "RESULTADOS\n",
    "    Entities:\n",
    "        irmãos: Person   Importancia (0.54) [0 Less - 1 Highly]\n",
    "        viagem: Event    Importancia (0.29) [0 Less - 1 Highly]\n",
    "    Sentiment: Negative  Score(-0.6) Magnitude(0.6)  [-1 Very Negative :  1 Very Positive]\n",
    "        "
   ]
  },
  {
   "cell_type": "markdown",
   "metadata": {},
   "source": [
    "## Avaliação em Microsoft Cognitive Services Text Analytics API\n",
    "\n",
    "https://azure.microsoft.com/en-us/services/cognitive-services/text-analytics/\n",
    "\n",
    "### Primera frase\n",
    "    \n",
    "    \"Já Nebul desanimado , conformado triste vida , dia , apareceu velhinha , pedindo esmola\"\n",
    "    \n",
    "RESULTADOS\n",
    "    Language: \tPortuguese \n",
    "    KEY PHRASES:\ttriste vida, velhinha, Nebul desanimado\n",
    "    SENTIMENT: 0%\n",
    "\n",
    "\n",
    "### Segunda frase\n",
    "\n",
    "    \"Mandou preparar nova esquadra quinhentos navios , porque supunha filho morrera guerra travara reino Águas , busca remédio cegueira\"\n",
    "\n",
    "RESULTADOS\n",
    "    Language: \tPortuguese\n",
    "    KEY PHRASES:\tguerra, reino Águas, filho, busca remédio cegueira\n",
    "    SENTIMENT: 6%\n",
    "\n",
    "### Terça frase\n",
    "\n",
    "    \"Os dois irmãos aconselharam-lhe não continuasse viagem tempo perdido , pois país divertido , deixasse ficar ali\"\n",
    "\n",
    "RESULTADOS\n",
    "    Language: \tPortuguese\n",
    "    KEY PHRASES:\tviagem, país divertido, irmãos\n",
    "    SENTIMENT: 26%"
   ]
  },
  {
   "cell_type": "markdown",
   "metadata": {},
   "source": [
    "## Resumo:\n",
    "\n",
    "    \"Primera frase\" \n",
    "    \n",
    "Meu resultado: Neutro \n",
    "IBM: Negative: -0.81\n",
    "Google: Positive Score(0.7) Magnitude(0.7)  [-1 Very Negative :  1 Very Positive]\n",
    "Microsoft: 0%\n",
    "\n",
    "    \"Segunda frase\"\n",
    "    \n",
    "Meu resultado: Negativo \n",
    "IBM: positivo\n",
    "Google: Positive Score(0.4) Magnitude(0.4)  [-1 Very Negative :  1 Very Positive]\n",
    "Microsoft: 6%\n",
    "\n",
    "    \"Terça frase\"\n",
    "    \n",
    "Meu resultado: Positivo \n",
    "IBM: positivo\n",
    "Google: Negative  Score(-0.6) Magnitude(0.6)  [-1 Very Negative :  1 Very Positive]\n",
    "Microsoft: 26%"
   ]
  }
 ],
 "metadata": {
  "kernelspec": {
   "display_name": "Python 2",
   "language": "python",
   "name": "python2"
  },
  "language_info": {
   "codemirror_mode": {
    "name": "ipython",
    "version": 2
   },
   "file_extension": ".py",
   "mimetype": "text/x-python",
   "name": "python",
   "nbconvert_exporter": "python",
   "pygments_lexer": "ipython2",
   "version": "2.7.14"
  }
 },
 "nbformat": 4,
 "nbformat_minor": 2
}
