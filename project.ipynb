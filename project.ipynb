{
 "cells": [
  {
   "cell_type": "markdown",
   "metadata": {},
   "source": [
    "## Meu projeto\n",
    "\n",
    "esse aqui [eu projeto"
   ]
  },
  {
   "cell_type": "code",
   "execution_count": 6,
   "metadata": {
    "collapsed": true
   },
   "outputs": [],
   "source": [
    "import csv\n",
    "tuples = [('rfa', 8 ), ('acc-raid', 8), ('rapidbase', 7)]\n",
    "# with open(<path-to-file>, \"w\") as the_file:\n",
    "#     csv.register_dialect(\"custom\", delimiter=\" \", skipinitialspace=True)\n",
    "#     writer = csv.writer(the_file, dialect=\"custom\")\n",
    "#     for tup in tuples:\n",
    "#         writer.write(tup)\n",
    "###\n",
    "with open(\"/Users/imburguan/Documents/Corpus_Contos_Infantiles/No-usar/a-borboleta-azul/Frecuencia-palabras.csv\", \"w\") as the_file:\n",
    "    csv.register_dialect(\"custom\", delimiter=\"\\t\", skipinitialspace=True)\n",
    "    writer = csv.writer(the_file, dialect=\"custom\")\n",
    "    for tup in tuples:\n",
    "        writer.writerow(tup)"
   ]
  },
  {
   "cell_type": "code",
   "execution_count": 5,
   "metadata": {},
   "outputs": [
    {
     "ename": "IndentationError",
     "evalue": "expected an indented block (<ipython-input-5-c779c2e109fe>, line 6)",
     "output_type": "error",
     "traceback": [
      "\u001b[0;36m  File \u001b[0;32m\"<ipython-input-5-c779c2e109fe>\"\u001b[0;36m, line \u001b[0;32m6\u001b[0m\n\u001b[0;31m    writer.writerow(tup)\u001b[0m\n\u001b[0m                        ^\u001b[0m\n\u001b[0;31mIndentationError\u001b[0m\u001b[0;31m:\u001b[0m expected an indented block\n"
     ]
    }
   ],
   "source": [
    "        ###\n"
   ]
  },
  {
   "cell_type": "code",
   "execution_count": null,
   "metadata": {
    "collapsed": true
   },
   "outputs": [],
   "source": []
  }
 ],
 "metadata": {
  "kernelspec": {
   "display_name": "Python 2",
   "language": "python",
   "name": "python2"
  },
  "language_info": {
   "codemirror_mode": {
    "name": "ipython",
    "version": 2
   },
   "file_extension": ".py",
   "mimetype": "text/x-python",
   "name": "python",
   "nbconvert_exporter": "python",
   "pygments_lexer": "ipython2",
   "version": "2.7.14"
  }
 },
 "nbformat": 4,
 "nbformat_minor": 2
}
